{
 "cells": [
  {
   "cell_type": "markdown",
   "metadata": {},
   "source": [
    "# X5 Retail Hero dataset"
   ]
  },
  {
   "cell_type": "code",
   "execution_count": 118,
   "metadata": {},
   "outputs": [],
   "source": [
    "from pprint import pprint\n",
    "\n",
    "import pandas as pd\n",
    "import matplotlib.pyplot as plt\n",
    "from sklift.metrics import uplift_at_k\n",
    "from sklift.viz import plot_uplift_preds\n",
    "import numpy as np\n",
    "\n",
    "from pymongo import MongoClient"
   ]
  },
  {
   "cell_type": "code",
   "execution_count": 10,
   "metadata": {},
   "outputs": [],
   "source": [
    "client = MongoClient(\"localhost\", 27017)\n",
    "db = client['x5']"
   ]
  },
  {
   "cell_type": "code",
   "execution_count": 16,
   "metadata": {},
   "outputs": [],
   "source": [
    "df_clients = pd.read_csv('../../data/x5-retail-hero/clients.csv', index_col='client_id')\n",
    "df_train = pd.read_csv('../../data/x5-retail-hero/uplift_train.csv', index_col='client_id')\n",
    "df_test = pd.read_csv('../../data/x5-retail-hero/uplift_test.csv', index_col='client_id')"
   ]
  },
  {
   "cell_type": "code",
   "execution_count": 137,
   "metadata": {},
   "outputs": [
    {
     "data": {
      "text/plain": [
       "Timestamp('2017-04-04 18:24:18')"
      ]
     },
     "execution_count": 137,
     "metadata": {},
     "output_type": "execute_result"
    }
   ],
   "source": [
    "pd.to_datetime(df_clients['first_issue_date']).min()"
   ]
  },
  {
   "cell_type": "code",
   "execution_count": 163,
   "metadata": {},
   "outputs": [],
   "source": [
    "from sklearn.model_selection import train_test_split\n",
    "\n",
    "df_features = df_clients.copy()\n",
    "df_features['first_issue_time'] = \\\n",
    "    (pd.to_datetime(df_features['first_issue_date'])\n",
    "     - pd.to_datetime(df_features['first_issue_date']).min()) / pd.Timedelta('365d')\n",
    "#      - pd.Timestamp('1970-01-01')) // pd.Timedelta('1d')\n",
    "df_features['first_redeem_time'] = \\\n",
    "    (pd.to_datetime(df_features['first_redeem_date'])\n",
    "     - pd.to_datetime(df_features['first_redeem_date']).min()) / pd.Timedelta('365d')\n",
    "#      - pd.Timestamp('1970-01-01')) // pd.Timedelta('1d')\n",
    "df_features['issue_redeem_delay'] = df_features['first_redeem_time'] \\\n",
    "    - df_features['first_issue_time']\n",
    "\n",
    "df_features = df_features.join(pd.get_dummies(df_features['gender']))\n",
    "df_features['first_redeem_time'] = df_features['first_redeem_time'].fillna(df_features['first_redeem_time'].mean())\n",
    "df_features['issue_redeem_delay'] = df_features['issue_redeem_delay'].fillna(df_features['issue_redeem_delay'].mean())\n",
    "\n",
    "df_features = df_features.drop(['first_issue_date', 'first_redeem_date', 'gender'], axis=1)\n",
    "\n",
    "indices_train = df_train.index\n",
    "indices_test = df_test.index\n",
    "indices_learn, indices_valid = train_test_split(df_train.index, test_size=0.3, random_state=123)"
   ]
  },
  {
   "cell_type": "code",
   "execution_count": 164,
   "metadata": {},
   "outputs": [
    {
     "data": {
      "text/html": [
       "<div>\n",
       "<style scoped>\n",
       "    .dataframe tbody tr th:only-of-type {\n",
       "        vertical-align: middle;\n",
       "    }\n",
       "\n",
       "    .dataframe tbody tr th {\n",
       "        vertical-align: top;\n",
       "    }\n",
       "\n",
       "    .dataframe thead th {\n",
       "        text-align: right;\n",
       "    }\n",
       "</style>\n",
       "<table border=\"1\" class=\"dataframe\">\n",
       "  <thead>\n",
       "    <tr style=\"text-align: right;\">\n",
       "      <th></th>\n",
       "      <th>age</th>\n",
       "      <th>first_issue_time</th>\n",
       "      <th>first_redeem_time</th>\n",
       "      <th>issue_redeem_delay</th>\n",
       "      <th>F</th>\n",
       "      <th>M</th>\n",
       "      <th>U</th>\n",
       "    </tr>\n",
       "    <tr>\n",
       "      <th>client_id</th>\n",
       "      <th></th>\n",
       "      <th></th>\n",
       "      <th></th>\n",
       "      <th></th>\n",
       "      <th></th>\n",
       "      <th></th>\n",
       "      <th></th>\n",
       "    </tr>\n",
       "  </thead>\n",
       "  <tbody>\n",
       "    <tr>\n",
       "      <th>000012768d</th>\n",
       "      <td>45</td>\n",
       "      <td>0.336675</td>\n",
       "      <td>0.735365</td>\n",
       "      <td>0.398690</td>\n",
       "      <td>0</td>\n",
       "      <td>0</td>\n",
       "      <td>1</td>\n",
       "    </tr>\n",
       "    <tr>\n",
       "      <th>000036f903</th>\n",
       "      <td>72</td>\n",
       "      <td>0.015925</td>\n",
       "      <td>0.033211</td>\n",
       "      <td>0.017286</td>\n",
       "      <td>1</td>\n",
       "      <td>0</td>\n",
       "      <td>0</td>\n",
       "    </tr>\n",
       "    <tr>\n",
       "      <th>000048b7a6</th>\n",
       "      <td>68</td>\n",
       "      <td>1.698076</td>\n",
       "      <td>1.208236</td>\n",
       "      <td>0.476130</td>\n",
       "      <td>1</td>\n",
       "      <td>0</td>\n",
       "      <td>0</td>\n",
       "    </tr>\n",
       "    <tr>\n",
       "      <th>000073194a</th>\n",
       "      <td>60</td>\n",
       "      <td>0.133622</td>\n",
       "      <td>0.622100</td>\n",
       "      <td>0.488477</td>\n",
       "      <td>1</td>\n",
       "      <td>0</td>\n",
       "      <td>0</td>\n",
       "    </tr>\n",
       "    <tr>\n",
       "      <th>00007c7133</th>\n",
       "      <td>67</td>\n",
       "      <td>0.131265</td>\n",
       "      <td>1.724154</td>\n",
       "      <td>1.592889</td>\n",
       "      <td>0</td>\n",
       "      <td>0</td>\n",
       "      <td>1</td>\n",
       "    </tr>\n",
       "    <tr>\n",
       "      <th>...</th>\n",
       "      <td>...</td>\n",
       "      <td>...</td>\n",
       "      <td>...</td>\n",
       "      <td>...</td>\n",
       "      <td>...</td>\n",
       "      <td>...</td>\n",
       "      <td>...</td>\n",
       "    </tr>\n",
       "    <tr>\n",
       "      <th>fffece623e</th>\n",
       "      <td>67</td>\n",
       "      <td>1.106479</td>\n",
       "      <td>1.713402</td>\n",
       "      <td>0.606924</td>\n",
       "      <td>0</td>\n",
       "      <td>0</td>\n",
       "      <td>1</td>\n",
       "    </tr>\n",
       "    <tr>\n",
       "      <th>ffff3dfff8</th>\n",
       "      <td>56</td>\n",
       "      <td>1.577821</td>\n",
       "      <td>1.658431</td>\n",
       "      <td>0.080611</td>\n",
       "      <td>1</td>\n",
       "      <td>0</td>\n",
       "      <td>0</td>\n",
       "    </tr>\n",
       "    <tr>\n",
       "      <th>ffffaab9da</th>\n",
       "      <td>23</td>\n",
       "      <td>0.391817</td>\n",
       "      <td>0.661208</td>\n",
       "      <td>0.269391</td>\n",
       "      <td>1</td>\n",
       "      <td>0</td>\n",
       "      <td>0</td>\n",
       "    </tr>\n",
       "    <tr>\n",
       "      <th>ffffeb5619</th>\n",
       "      <td>62</td>\n",
       "      <td>0.670666</td>\n",
       "      <td>1.208236</td>\n",
       "      <td>0.476130</td>\n",
       "      <td>0</td>\n",
       "      <td>0</td>\n",
       "      <td>1</td>\n",
       "    </tr>\n",
       "    <tr>\n",
       "      <th>fffff6ce77</th>\n",
       "      <td>42</td>\n",
       "      <td>0.331737</td>\n",
       "      <td>0.376140</td>\n",
       "      <td>0.044403</td>\n",
       "      <td>0</td>\n",
       "      <td>0</td>\n",
       "      <td>1</td>\n",
       "    </tr>\n",
       "  </tbody>\n",
       "</table>\n",
       "<p>400162 rows × 7 columns</p>\n",
       "</div>"
      ],
      "text/plain": [
       "            age  first_issue_time  first_redeem_time  issue_redeem_delay  F  \\\n",
       "client_id                                                                     \n",
       "000012768d   45          0.336675           0.735365            0.398690  0   \n",
       "000036f903   72          0.015925           0.033211            0.017286  1   \n",
       "000048b7a6   68          1.698076           1.208236            0.476130  1   \n",
       "000073194a   60          0.133622           0.622100            0.488477  1   \n",
       "00007c7133   67          0.131265           1.724154            1.592889  0   \n",
       "...         ...               ...                ...                 ... ..   \n",
       "fffece623e   67          1.106479           1.713402            0.606924  0   \n",
       "ffff3dfff8   56          1.577821           1.658431            0.080611  1   \n",
       "ffffaab9da   23          0.391817           0.661208            0.269391  1   \n",
       "ffffeb5619   62          0.670666           1.208236            0.476130  0   \n",
       "fffff6ce77   42          0.331737           0.376140            0.044403  0   \n",
       "\n",
       "            M  U  \n",
       "client_id         \n",
       "000012768d  0  1  \n",
       "000036f903  0  0  \n",
       "000048b7a6  0  0  \n",
       "000073194a  0  0  \n",
       "00007c7133  0  1  \n",
       "...        .. ..  \n",
       "fffece623e  0  1  \n",
       "ffff3dfff8  0  0  \n",
       "ffffaab9da  0  0  \n",
       "ffffeb5619  0  1  \n",
       "fffff6ce77  0  1  \n",
       "\n",
       "[400162 rows x 7 columns]"
      ]
     },
     "execution_count": 164,
     "metadata": {},
     "output_type": "execute_result"
    }
   ],
   "source": [
    "df_features"
   ]
  },
  {
   "cell_type": "code",
   "execution_count": 165,
   "metadata": {},
   "outputs": [],
   "source": [
    "X_train = df_features.loc[indices_learn, :]\n",
    "y_train = df_train.loc[indices_learn, 'target']\n",
    "treat_train = df_train.loc[indices_learn, 'treatment_flg']\n",
    "\n",
    "X_val = df_features.loc[indices_valid, :]\n",
    "y_val = df_train.loc[indices_valid, 'target']\n",
    "treat_val =  df_train.loc[indices_valid, 'treatment_flg']\n",
    "\n",
    "X_train_full = df_features.loc[indices_train, :]\n",
    "y_train_full = df_train.loc[:, 'target']\n",
    "treat_train_full = df_train.loc[:, 'treatment_flg']\n",
    "\n",
    "X_test = df_features.loc[indices_test, :]\n",
    "\n",
    "cat_features = ['gender']"
   ]
  },
  {
   "cell_type": "markdown",
   "metadata": {},
   "source": [
    "# ATE"
   ]
  },
  {
   "cell_type": "code",
   "execution_count": 178,
   "metadata": {},
   "outputs": [
    {
     "name": "stderr",
     "output_type": "stream",
     "text": [
      "/home/isabellad/anaconda3/envs/ml/lib/python3.6/site-packages/ipykernel_launcher.py:2: UserWarning: Boolean Series key will be reindexed to match DataFrame index.\n",
      "  \n"
     ]
    },
    {
     "data": {
      "text/plain": [
       "0.0325018461092893"
      ]
     },
     "execution_count": 178,
     "metadata": {},
     "output_type": "execute_result"
    }
   ],
   "source": [
    "def get_mean_target(treatment_flg):\n",
    "    return df_train.loc[indices_valid][df_train['treatment_flg']==treatment_flg]['target'].mean()\n",
    "\n",
    "get_mean_target(1) - get_mean_target(0)"
   ]
  },
  {
   "cell_type": "markdown",
   "metadata": {},
   "source": [
    "# Double machine learning"
   ]
  },
  {
   "cell_type": "code",
   "execution_count": 172,
   "metadata": {},
   "outputs": [
    {
     "name": "stdout",
     "output_type": "stream",
     "text": [
      "Uplift at 30: 0.037343776750556334\n"
     ]
    },
    {
     "name": "stderr",
     "output_type": "stream",
     "text": [
      "/home/isabellad/anaconda3/envs/ml/lib/python3.6/site-packages/econml/utilities.py:961: UserWarning: Co-variance matrix is undertermined. Inference will be invalid!\n",
      "  warnings.warn(\"Co-variance matrix is undertermined. Inference will be invalid!\")\n"
     ]
    }
   ],
   "source": [
    "from econml.dml import LinearDMLCateEstimator\n",
    "from lightgbm import LGBMClassifier\n",
    "\n",
    "est = LinearDMLCateEstimator(model_y=LGBMClassifier(max_depth=5), \n",
    "                             model_t=LGBMClassifier(max_depth=5),\n",
    "                             discrete_treatment=True)\n",
    "est.fit(y_train, treat_train, X_train)\n",
    "uplift = est.const_marginal_effect(X_val)[:, 0]\n",
    "score = uplift_at_k(y_true=y_val, uplift=uplift, treatment=treat_val, strategy='by_group', k=0.3)\n",
    "\n",
    "print(f\"Uplift at 30: {score}\")"
   ]
  },
  {
   "cell_type": "code",
   "execution_count": 173,
   "metadata": {},
   "outputs": [
    {
     "name": "stdout",
     "output_type": "stream",
     "text": [
      "Uplift at 30: 0.0335854809309446\n"
     ]
    }
   ],
   "source": [
    "from econml.dml import NonParamDMLCateEstimator\n",
    "from sklearn.ensemble import GradientBoostingRegressor\n",
    "from lightgbm import LGBMRegressor\n",
    "\n",
    "est = NonParamDMLCateEstimator(model_y=LGBMRegressor(),\n",
    "                               model_t=LGBMRegressor(),\n",
    "                               model_final=LGBMRegressor())\n",
    "est.fit(y_train, treat_train, X_train)\n",
    "uplift = est.effect(X_val.values)\n",
    "score = uplift_at_k(y_true=y_val, uplift=uplift, treatment=treat_val, strategy='by_group', k=0.3)\n",
    "\n",
    "print(f\"Uplift at 30: {score}\")"
   ]
  },
  {
   "cell_type": "markdown",
   "metadata": {},
   "source": [
    "# Meta Learners"
   ]
  },
  {
   "cell_type": "markdown",
   "metadata": {},
   "source": [
    "## T-learner"
   ]
  },
  {
   "cell_type": "code",
   "execution_count": 168,
   "metadata": {},
   "outputs": [
    {
     "name": "stdout",
     "output_type": "stream",
     "text": [
      "Uplift at 30: 0.0456427434867116\n"
     ]
    }
   ],
   "source": [
    "from econml.metalearners import TLearner\n",
    "\n",
    "est = TLearner(LGBMRegressor())\n",
    "est.fit(y_train, treat_train, X_train)\n",
    "uplift = np.squeeze(est.const_marginal_effect(X_val.values))\n",
    "score = uplift_at_k(y_true=y_val, uplift=uplift, treatment=treat_val, strategy='by_group', k=0.3)\n",
    "\n",
    "print(f\"Uplift at 30: {score}\")"
   ]
  },
  {
   "cell_type": "markdown",
   "metadata": {},
   "source": [
    "## S-learner"
   ]
  },
  {
   "cell_type": "code",
   "execution_count": 169,
   "metadata": {},
   "outputs": [
    {
     "name": "stdout",
     "output_type": "stream",
     "text": [
      "Uplift at 30: 0.052801192382448625\n"
     ]
    }
   ],
   "source": [
    "from econml.metalearners import SLearner\n",
    "\n",
    "est = SLearner(LGBMRegressor())\n",
    "est.fit(y_train, treat_train, X_train)\n",
    "uplift = np.squeeze(est.const_marginal_effect(X_val.values))\n",
    "score = uplift_at_k(y_true=y_val, uplift=uplift, treatment=treat_val, strategy='by_group', k=0.3)\n",
    "\n",
    "print(f\"Uplift at 30: {score}\")"
   ]
  },
  {
   "cell_type": "markdown",
   "metadata": {},
   "source": [
    "## X-Learner"
   ]
  },
  {
   "cell_type": "code",
   "execution_count": 182,
   "metadata": {},
   "outputs": [
    {
     "name": "stderr",
     "output_type": "stream",
     "text": [
      "/home/isabellad/anaconda3/envs/ml/lib/python3.6/site-packages/sklearn/linear_model/logistic.py:432: FutureWarning: Default solver will be changed to 'lbfgs' in 0.22. Specify a solver to silence this warning.\n",
      "  FutureWarning)\n"
     ]
    },
    {
     "name": "stdout",
     "output_type": "stream",
     "text": [
      "Uplift at 30: 0.03716187296695772\n"
     ]
    }
   ],
   "source": [
    "from econml.metalearners import XLearner\n",
    "\n",
    "est = XLearner(LGBMClassifier(), )\n",
    "est.fit(y_train, treat_train, X_train)\n",
    "uplift = np.squeeze(est.const_marginal_effect(X_val.values))\n",
    "score = uplift_at_k(y_true=y_val, uplift=uplift, treatment=treat_val, strategy='by_group', k=0.3)\n",
    "\n",
    "print(f\"Uplift at 30: {score}\")"
   ]
  },
  {
   "cell_type": "code",
   "execution_count": null,
   "metadata": {},
   "outputs": [],
   "source": []
  }
 ],
 "metadata": {
  "kernelspec": {
   "display_name": "ml_general",
   "language": "python",
   "name": "ml_general"
  },
  "language_info": {
   "codemirror_mode": {
    "name": "ipython",
    "version": 3
   },
   "file_extension": ".py",
   "mimetype": "text/x-python",
   "name": "python",
   "nbconvert_exporter": "python",
   "pygments_lexer": "ipython3",
   "version": "3.6.8"
  }
 },
 "nbformat": 4,
 "nbformat_minor": 2
}
