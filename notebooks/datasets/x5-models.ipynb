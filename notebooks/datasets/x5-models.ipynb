{
 "cells": [
  {
   "cell_type": "code",
   "execution_count": 48,
   "metadata": {},
   "outputs": [],
   "source": [
    "import numpy as np\n",
    "import pandas as pd\n",
    "from sklift.models import TwoModels\n",
    "import lightgbm as lgb\n",
    "from sklift import models, viz\n",
    "from sklearn.linear_model import LogisticRegression\n",
    "from sklearn.pipeline import make_pipeline\n",
    "from sklearn.preprocessing import StandardScaler\n",
    "from sklearn.base import clone\n",
    "from matplotlib import pyplot as plt\n",
    "import seaborn as sns\n",
    "from sberav.splits.tests import ClassifierTwoSampleTestBootstrap, KolmogorovSmirnovTwoSamplesTest\n",
    "from tqdm import tqdm"
   ]
  },
  {
   "cell_type": "markdown",
   "metadata": {},
   "source": [
    "# Data"
   ]
  },
  {
   "cell_type": "code",
   "execution_count": 30,
   "metadata": {},
   "outputs": [
    {
     "data": {
      "text/html": [
       "<div>\n",
       "<style scoped>\n",
       "    .dataframe tbody tr th:only-of-type {\n",
       "        vertical-align: middle;\n",
       "    }\n",
       "\n",
       "    .dataframe tbody tr th {\n",
       "        vertical-align: top;\n",
       "    }\n",
       "\n",
       "    .dataframe thead th {\n",
       "        text-align: right;\n",
       "    }\n",
       "</style>\n",
       "<table border=\"1\" class=\"dataframe\">\n",
       "  <thead>\n",
       "    <tr style=\"text-align: right;\">\n",
       "      <th></th>\n",
       "      <th>regular_points_received_mean</th>\n",
       "      <th>regular_points_received_std</th>\n",
       "      <th>regular_points_received_median</th>\n",
       "      <th>regular_points_received_max</th>\n",
       "      <th>regular_points_received_skew</th>\n",
       "      <th>express_points_received_mean</th>\n",
       "      <th>express_points_received_std</th>\n",
       "      <th>express_points_received_median</th>\n",
       "      <th>express_points_received_max</th>\n",
       "      <th>express_points_received_skew</th>\n",
       "      <th>...</th>\n",
       "      <th>percent_of_transactions_in_12_month</th>\n",
       "      <th>age</th>\n",
       "      <th>first_issue_time</th>\n",
       "      <th>first_redeem_time</th>\n",
       "      <th>issue_redeem_delay</th>\n",
       "      <th>F</th>\n",
       "      <th>M</th>\n",
       "      <th>U</th>\n",
       "      <th>treatment_flg</th>\n",
       "      <th>target</th>\n",
       "    </tr>\n",
       "    <tr>\n",
       "      <th>client_id</th>\n",
       "      <th></th>\n",
       "      <th></th>\n",
       "      <th></th>\n",
       "      <th></th>\n",
       "      <th></th>\n",
       "      <th></th>\n",
       "      <th></th>\n",
       "      <th></th>\n",
       "      <th></th>\n",
       "      <th></th>\n",
       "      <th></th>\n",
       "      <th></th>\n",
       "      <th></th>\n",
       "      <th></th>\n",
       "      <th></th>\n",
       "      <th></th>\n",
       "      <th></th>\n",
       "      <th></th>\n",
       "      <th></th>\n",
       "      <th></th>\n",
       "      <th></th>\n",
       "    </tr>\n",
       "  </thead>\n",
       "  <tbody>\n",
       "    <tr>\n",
       "      <th>000012768d</th>\n",
       "      <td>6.425000</td>\n",
       "      <td>2.973529</td>\n",
       "      <td>6.85</td>\n",
       "      <td>10.0</td>\n",
       "      <td>-0.355890</td>\n",
       "      <td>0.000</td>\n",
       "      <td>0.000000</td>\n",
       "      <td>0.0</td>\n",
       "      <td>0.0</td>\n",
       "      <td>0.000000</td>\n",
       "      <td>...</td>\n",
       "      <td>2</td>\n",
       "      <td>45</td>\n",
       "      <td>0.336675</td>\n",
       "      <td>0.735365</td>\n",
       "      <td>0.398690</td>\n",
       "      <td>0</td>\n",
       "      <td>0</td>\n",
       "      <td>1</td>\n",
       "      <td>0</td>\n",
       "      <td>1</td>\n",
       "    </tr>\n",
       "    <tr>\n",
       "      <th>000036f903</th>\n",
       "      <td>1.715625</td>\n",
       "      <td>1.461401</td>\n",
       "      <td>1.30</td>\n",
       "      <td>7.0</td>\n",
       "      <td>2.367965</td>\n",
       "      <td>1.875</td>\n",
       "      <td>10.439558</td>\n",
       "      <td>0.0</td>\n",
       "      <td>60.0</td>\n",
       "      <td>5.388159</td>\n",
       "      <td>...</td>\n",
       "      <td>10</td>\n",
       "      <td>72</td>\n",
       "      <td>0.015925</td>\n",
       "      <td>0.033211</td>\n",
       "      <td>0.017286</td>\n",
       "      <td>1</td>\n",
       "      <td>0</td>\n",
       "      <td>0</td>\n",
       "      <td>1</td>\n",
       "      <td>1</td>\n",
       "    </tr>\n",
       "    <tr>\n",
       "      <th>00010925a5</th>\n",
       "      <td>1.766667</td>\n",
       "      <td>1.139688</td>\n",
       "      <td>1.45</td>\n",
       "      <td>5.8</td>\n",
       "      <td>2.321282</td>\n",
       "      <td>0.000</td>\n",
       "      <td>0.000000</td>\n",
       "      <td>0.0</td>\n",
       "      <td>0.0</td>\n",
       "      <td>0.000000</td>\n",
       "      <td>...</td>\n",
       "      <td>6</td>\n",
       "      <td>83</td>\n",
       "      <td>1.303876</td>\n",
       "      <td>1.428140</td>\n",
       "      <td>0.124264</td>\n",
       "      <td>0</td>\n",
       "      <td>0</td>\n",
       "      <td>1</td>\n",
       "      <td>1</td>\n",
       "      <td>1</td>\n",
       "    </tr>\n",
       "    <tr>\n",
       "      <th>0001f552b0</th>\n",
       "      <td>5.260000</td>\n",
       "      <td>9.686334</td>\n",
       "      <td>1.60</td>\n",
       "      <td>39.7</td>\n",
       "      <td>2.953750</td>\n",
       "      <td>0.000</td>\n",
       "      <td>0.000000</td>\n",
       "      <td>0.0</td>\n",
       "      <td>0.0</td>\n",
       "      <td>0.000000</td>\n",
       "      <td>...</td>\n",
       "      <td>4</td>\n",
       "      <td>33</td>\n",
       "      <td>0.238463</td>\n",
       "      <td>1.381198</td>\n",
       "      <td>1.142734</td>\n",
       "      <td>1</td>\n",
       "      <td>0</td>\n",
       "      <td>0</td>\n",
       "      <td>1</td>\n",
       "      <td>1</td>\n",
       "    </tr>\n",
       "    <tr>\n",
       "      <th>00020e7b18</th>\n",
       "      <td>15.894444</td>\n",
       "      <td>13.081389</td>\n",
       "      <td>14.60</td>\n",
       "      <td>44.5</td>\n",
       "      <td>0.819229</td>\n",
       "      <td>0.000</td>\n",
       "      <td>0.000000</td>\n",
       "      <td>0.0</td>\n",
       "      <td>0.0</td>\n",
       "      <td>0.000000</td>\n",
       "      <td>...</td>\n",
       "      <td>2</td>\n",
       "      <td>73</td>\n",
       "      <td>0.648549</td>\n",
       "      <td>0.751613</td>\n",
       "      <td>0.103064</td>\n",
       "      <td>0</td>\n",
       "      <td>0</td>\n",
       "      <td>1</td>\n",
       "      <td>1</td>\n",
       "      <td>1</td>\n",
       "    </tr>\n",
       "    <tr>\n",
       "      <th>...</th>\n",
       "      <td>...</td>\n",
       "      <td>...</td>\n",
       "      <td>...</td>\n",
       "      <td>...</td>\n",
       "      <td>...</td>\n",
       "      <td>...</td>\n",
       "      <td>...</td>\n",
       "      <td>...</td>\n",
       "      <td>...</td>\n",
       "      <td>...</td>\n",
       "      <td>...</td>\n",
       "      <td>...</td>\n",
       "      <td>...</td>\n",
       "      <td>...</td>\n",
       "      <td>...</td>\n",
       "      <td>...</td>\n",
       "      <td>...</td>\n",
       "      <td>...</td>\n",
       "      <td>...</td>\n",
       "      <td>...</td>\n",
       "      <td>...</td>\n",
       "    </tr>\n",
       "    <tr>\n",
       "      <th>fffe0abb97</th>\n",
       "      <td>2.466667</td>\n",
       "      <td>3.003701</td>\n",
       "      <td>0.70</td>\n",
       "      <td>7.3</td>\n",
       "      <td>0.703218</td>\n",
       "      <td>0.000</td>\n",
       "      <td>0.000000</td>\n",
       "      <td>0.0</td>\n",
       "      <td>0.0</td>\n",
       "      <td>0.000000</td>\n",
       "      <td>...</td>\n",
       "      <td>1</td>\n",
       "      <td>35</td>\n",
       "      <td>0.648236</td>\n",
       "      <td>0.838325</td>\n",
       "      <td>0.190090</td>\n",
       "      <td>1</td>\n",
       "      <td>0</td>\n",
       "      <td>0</td>\n",
       "      <td>0</td>\n",
       "      <td>0</td>\n",
       "    </tr>\n",
       "    <tr>\n",
       "      <th>fffe0ed719</th>\n",
       "      <td>2.330000</td>\n",
       "      <td>2.281542</td>\n",
       "      <td>1.50</td>\n",
       "      <td>8.6</td>\n",
       "      <td>1.531437</td>\n",
       "      <td>0.000</td>\n",
       "      <td>0.000000</td>\n",
       "      <td>0.0</td>\n",
       "      <td>0.0</td>\n",
       "      <td>0.000000</td>\n",
       "      <td>...</td>\n",
       "      <td>4</td>\n",
       "      <td>69</td>\n",
       "      <td>0.448229</td>\n",
       "      <td>0.671819</td>\n",
       "      <td>0.223590</td>\n",
       "      <td>0</td>\n",
       "      <td>0</td>\n",
       "      <td>1</td>\n",
       "      <td>0</td>\n",
       "      <td>1</td>\n",
       "    </tr>\n",
       "    <tr>\n",
       "      <th>fffea1204c</th>\n",
       "      <td>1.535294</td>\n",
       "      <td>1.710845</td>\n",
       "      <td>0.90</td>\n",
       "      <td>5.9</td>\n",
       "      <td>1.563107</td>\n",
       "      <td>0.000</td>\n",
       "      <td>0.000000</td>\n",
       "      <td>0.0</td>\n",
       "      <td>0.0</td>\n",
       "      <td>0.000000</td>\n",
       "      <td>...</td>\n",
       "      <td>4</td>\n",
       "      <td>73</td>\n",
       "      <td>0.827236</td>\n",
       "      <td>0.918646</td>\n",
       "      <td>0.091409</td>\n",
       "      <td>1</td>\n",
       "      <td>0</td>\n",
       "      <td>0</td>\n",
       "      <td>0</td>\n",
       "      <td>1</td>\n",
       "    </tr>\n",
       "    <tr>\n",
       "      <th>fffeca6d22</th>\n",
       "      <td>2.962500</td>\n",
       "      <td>3.130071</td>\n",
       "      <td>0.75</td>\n",
       "      <td>9.0</td>\n",
       "      <td>0.741166</td>\n",
       "      <td>0.000</td>\n",
       "      <td>0.000000</td>\n",
       "      <td>0.0</td>\n",
       "      <td>0.0</td>\n",
       "      <td>0.000000</td>\n",
       "      <td>...</td>\n",
       "      <td>2</td>\n",
       "      <td>77</td>\n",
       "      <td>0.733508</td>\n",
       "      <td>1.208236</td>\n",
       "      <td>0.476130</td>\n",
       "      <td>1</td>\n",
       "      <td>0</td>\n",
       "      <td>0</td>\n",
       "      <td>1</td>\n",
       "      <td>0</td>\n",
       "    </tr>\n",
       "    <tr>\n",
       "      <th>fffff6ce77</th>\n",
       "      <td>6.915625</td>\n",
       "      <td>8.101162</td>\n",
       "      <td>1.95</td>\n",
       "      <td>24.5</td>\n",
       "      <td>0.908935</td>\n",
       "      <td>0.000</td>\n",
       "      <td>0.000000</td>\n",
       "      <td>0.0</td>\n",
       "      <td>0.0</td>\n",
       "      <td>0.000000</td>\n",
       "      <td>...</td>\n",
       "      <td>2</td>\n",
       "      <td>42</td>\n",
       "      <td>0.331737</td>\n",
       "      <td>0.376140</td>\n",
       "      <td>0.044403</td>\n",
       "      <td>0</td>\n",
       "      <td>0</td>\n",
       "      <td>1</td>\n",
       "      <td>0</td>\n",
       "      <td>1</td>\n",
       "    </tr>\n",
       "  </tbody>\n",
       "</table>\n",
       "<p>200039 rows × 53 columns</p>\n",
       "</div>"
      ],
      "text/plain": [
       "            regular_points_received_mean  regular_points_received_std  \\\n",
       "client_id                                                               \n",
       "000012768d                      6.425000                     2.973529   \n",
       "000036f903                      1.715625                     1.461401   \n",
       "00010925a5                      1.766667                     1.139688   \n",
       "0001f552b0                      5.260000                     9.686334   \n",
       "00020e7b18                     15.894444                    13.081389   \n",
       "...                                  ...                          ...   \n",
       "fffe0abb97                      2.466667                     3.003701   \n",
       "fffe0ed719                      2.330000                     2.281542   \n",
       "fffea1204c                      1.535294                     1.710845   \n",
       "fffeca6d22                      2.962500                     3.130071   \n",
       "fffff6ce77                      6.915625                     8.101162   \n",
       "\n",
       "            regular_points_received_median  regular_points_received_max  \\\n",
       "client_id                                                                 \n",
       "000012768d                            6.85                         10.0   \n",
       "000036f903                            1.30                          7.0   \n",
       "00010925a5                            1.45                          5.8   \n",
       "0001f552b0                            1.60                         39.7   \n",
       "00020e7b18                           14.60                         44.5   \n",
       "...                                    ...                          ...   \n",
       "fffe0abb97                            0.70                          7.3   \n",
       "fffe0ed719                            1.50                          8.6   \n",
       "fffea1204c                            0.90                          5.9   \n",
       "fffeca6d22                            0.75                          9.0   \n",
       "fffff6ce77                            1.95                         24.5   \n",
       "\n",
       "            regular_points_received_skew  express_points_received_mean  \\\n",
       "client_id                                                                \n",
       "000012768d                     -0.355890                         0.000   \n",
       "000036f903                      2.367965                         1.875   \n",
       "00010925a5                      2.321282                         0.000   \n",
       "0001f552b0                      2.953750                         0.000   \n",
       "00020e7b18                      0.819229                         0.000   \n",
       "...                                  ...                           ...   \n",
       "fffe0abb97                      0.703218                         0.000   \n",
       "fffe0ed719                      1.531437                         0.000   \n",
       "fffea1204c                      1.563107                         0.000   \n",
       "fffeca6d22                      0.741166                         0.000   \n",
       "fffff6ce77                      0.908935                         0.000   \n",
       "\n",
       "            express_points_received_std  express_points_received_median  \\\n",
       "client_id                                                                 \n",
       "000012768d                     0.000000                             0.0   \n",
       "000036f903                    10.439558                             0.0   \n",
       "00010925a5                     0.000000                             0.0   \n",
       "0001f552b0                     0.000000                             0.0   \n",
       "00020e7b18                     0.000000                             0.0   \n",
       "...                                 ...                             ...   \n",
       "fffe0abb97                     0.000000                             0.0   \n",
       "fffe0ed719                     0.000000                             0.0   \n",
       "fffea1204c                     0.000000                             0.0   \n",
       "fffeca6d22                     0.000000                             0.0   \n",
       "fffff6ce77                     0.000000                             0.0   \n",
       "\n",
       "            express_points_received_max  express_points_received_skew  ...  \\\n",
       "client_id                                                              ...   \n",
       "000012768d                          0.0                      0.000000  ...   \n",
       "000036f903                         60.0                      5.388159  ...   \n",
       "00010925a5                          0.0                      0.000000  ...   \n",
       "0001f552b0                          0.0                      0.000000  ...   \n",
       "00020e7b18                          0.0                      0.000000  ...   \n",
       "...                                 ...                           ...  ...   \n",
       "fffe0abb97                          0.0                      0.000000  ...   \n",
       "fffe0ed719                          0.0                      0.000000  ...   \n",
       "fffea1204c                          0.0                      0.000000  ...   \n",
       "fffeca6d22                          0.0                      0.000000  ...   \n",
       "fffff6ce77                          0.0                      0.000000  ...   \n",
       "\n",
       "            percent_of_transactions_in_12_month  age  first_issue_time  \\\n",
       "client_id                                                                \n",
       "000012768d                                    2   45          0.336675   \n",
       "000036f903                                   10   72          0.015925   \n",
       "00010925a5                                    6   83          1.303876   \n",
       "0001f552b0                                    4   33          0.238463   \n",
       "00020e7b18                                    2   73          0.648549   \n",
       "...                                         ...  ...               ...   \n",
       "fffe0abb97                                    1   35          0.648236   \n",
       "fffe0ed719                                    4   69          0.448229   \n",
       "fffea1204c                                    4   73          0.827236   \n",
       "fffeca6d22                                    2   77          0.733508   \n",
       "fffff6ce77                                    2   42          0.331737   \n",
       "\n",
       "            first_redeem_time  issue_redeem_delay  F  M  U  treatment_flg  \\\n",
       "client_id                                                                   \n",
       "000012768d           0.735365            0.398690  0  0  1              0   \n",
       "000036f903           0.033211            0.017286  1  0  0              1   \n",
       "00010925a5           1.428140            0.124264  0  0  1              1   \n",
       "0001f552b0           1.381198            1.142734  1  0  0              1   \n",
       "00020e7b18           0.751613            0.103064  0  0  1              1   \n",
       "...                       ...                 ... .. .. ..            ...   \n",
       "fffe0abb97           0.838325            0.190090  1  0  0              0   \n",
       "fffe0ed719           0.671819            0.223590  0  0  1              0   \n",
       "fffea1204c           0.918646            0.091409  1  0  0              0   \n",
       "fffeca6d22           1.208236            0.476130  1  0  0              1   \n",
       "fffff6ce77           0.376140            0.044403  0  0  1              0   \n",
       "\n",
       "            target  \n",
       "client_id           \n",
       "000012768d       1  \n",
       "000036f903       1  \n",
       "00010925a5       1  \n",
       "0001f552b0       1  \n",
       "00020e7b18       1  \n",
       "...            ...  \n",
       "fffe0abb97       0  \n",
       "fffe0ed719       1  \n",
       "fffea1204c       1  \n",
       "fffeca6d22       0  \n",
       "fffff6ce77       1  \n",
       "\n",
       "[200039 rows x 53 columns]"
      ]
     },
     "execution_count": 30,
     "metadata": {},
     "output_type": "execute_result"
    }
   ],
   "source": [
    "data_path = \"../../data/preprocessed/\"  # features_with_target.csv\n",
    "\n",
    "transaction_features = pd.read_csv(data_path + \"x5_transaction_features.csv\", index_col=\"client_id\")\n",
    "client_features = pd.read_csv(data_path + \"x5_client_features.csv\", index_col=\"client_id\")\n",
    "df_target = pd.read_csv(\"../../data/datasets/x5-retail-hero/uplift_train.csv.gz\", index_col=\"client_id\")\n",
    "df = transaction_features.join(client_features).join(df_target)\n",
    "df"
   ]
  },
  {
   "cell_type": "markdown",
   "metadata": {},
   "source": [
    "## Preprocessing\n"
   ]
  },
  {
   "cell_type": "code",
   "execution_count": 31,
   "metadata": {},
   "outputs": [
    {
     "name": "stdout",
     "output_type": "stream",
     "text": [
      "Number of entries where age is not defined: 77\n",
      "Number of clients with age > 0: 199962\n",
      "Number of clients with age > 110: 514\n",
      "Number of clients with age from (0, 110): 199448\n"
     ]
    }
   ],
   "source": [
    "print(\"Number of entries where age is not defined:\", df.age.le(0).sum())\n",
    "df = df[df.age > 0]\n",
    "print(\"Number of clients with age > 0:\", df.shape[0])\n",
    "\n",
    "print(\"Number of clients with age > 110:\", df.age.gt(110).sum())\n",
    "df = df[df.age < 110]\n",
    "print(\"Number of clients with age from (0, 110):\", df.shape[0])"
   ]
  },
  {
   "cell_type": "code",
   "execution_count": 32,
   "metadata": {},
   "outputs": [],
   "source": [
    "def split_df(df, columns = None):\n",
    "    features = df[df.columns.difference(['treatment_flg', 'target', 'client_id', 'gender'])]\n",
    "    if columns is not None:\n",
    "        features = features[columns]\n",
    "    y_target = df.target\n",
    "    treatment = df.treatment_flg\n",
    "    \n",
    "    return features, y_target, treatment"
   ]
  },
  {
   "cell_type": "markdown",
   "metadata": {},
   "source": [
    "### Split"
   ]
  },
  {
   "cell_type": "code",
   "execution_count": 33,
   "metadata": {},
   "outputs": [],
   "source": [
    "from sklearn.model_selection import train_test_split\n",
    "\n",
    "df_train, df_test = train_test_split(df, train_size=0.8, stratify=df.treatment_flg, random_state=42)"
   ]
  },
  {
   "cell_type": "markdown",
   "metadata": {},
   "source": [
    "# EDA"
   ]
  },
  {
   "cell_type": "code",
   "execution_count": 34,
   "metadata": {},
   "outputs": [],
   "source": [
    "train_features, train_target, train_treatment = split_df(df_train)"
   ]
  },
  {
   "cell_type": "code",
   "execution_count": 35,
   "metadata": {},
   "outputs": [
    {
     "data": {
      "text/plain": [
       "Index(['F', 'M', 'U', 'age', 'express_points_received_max',\n",
       "       'express_points_received_mean', 'express_points_received_median',\n",
       "       'express_points_received_skew', 'express_points_received_std',\n",
       "       'express_points_spent_max', 'express_points_spent_mean',\n",
       "       'express_points_spent_median', 'express_points_spent_skew',\n",
       "       'express_points_spent_std', 'first_issue_time', 'first_redeem_time',\n",
       "       'issue_redeem_delay', 'percent_of_transactions_in_0_day',\n",
       "       'percent_of_transactions_in_10_month',\n",
       "       'percent_of_transactions_in_11_month',\n",
       "       'percent_of_transactions_in_12_month',\n",
       "       'percent_of_transactions_in_1_day',\n",
       "       'percent_of_transactions_in_1_month',\n",
       "       'percent_of_transactions_in_2_day',\n",
       "       'percent_of_transactions_in_2_month',\n",
       "       'percent_of_transactions_in_3_day',\n",
       "       'percent_of_transactions_in_3_month',\n",
       "       'percent_of_transactions_in_4_day',\n",
       "       'percent_of_transactions_in_4_month',\n",
       "       'percent_of_transactions_in_5_day',\n",
       "       'percent_of_transactions_in_5_month',\n",
       "       'percent_of_transactions_in_6_day',\n",
       "       'percent_of_transactions_in_6_month',\n",
       "       'percent_of_transactions_in_7_month',\n",
       "       'percent_of_transactions_in_8_month',\n",
       "       'percent_of_transactions_in_9_month', 'purchase_sum_max',\n",
       "       'purchase_sum_mean', 'purchase_sum_median', 'purchase_sum_skew',\n",
       "       'purchase_sum_std', 'regular_points_received_max',\n",
       "       'regular_points_received_mean', 'regular_points_received_median',\n",
       "       'regular_points_received_skew', 'regular_points_received_std',\n",
       "       'regular_points_spent_max', 'regular_points_spent_mean',\n",
       "       'regular_points_spent_median', 'regular_points_spent_skew',\n",
       "       'regular_points_spent_std'],\n",
       "      dtype='object')"
      ]
     },
     "execution_count": 35,
     "metadata": {},
     "output_type": "execute_result"
    }
   ],
   "source": [
    "train_features.columns"
   ]
  },
  {
   "cell_type": "code",
   "execution_count": 36,
   "metadata": {},
   "outputs": [
    {
     "name": "stdout",
     "output_type": "stream",
     "text": [
      "Number of features: 51\n"
     ]
    }
   ],
   "source": [
    "print(\"Number of features:\", train_features.shape[1])"
   ]
  },
  {
   "cell_type": "code",
   "execution_count": 37,
   "metadata": {},
   "outputs": [
    {
     "data": {
      "text/html": [
       "<div>\n",
       "<style scoped>\n",
       "    .dataframe tbody tr th:only-of-type {\n",
       "        vertical-align: middle;\n",
       "    }\n",
       "\n",
       "    .dataframe tbody tr th {\n",
       "        vertical-align: top;\n",
       "    }\n",
       "\n",
       "    .dataframe thead th {\n",
       "        text-align: right;\n",
       "    }\n",
       "</style>\n",
       "<table border=\"1\" class=\"dataframe\">\n",
       "  <thead>\n",
       "    <tr style=\"text-align: right;\">\n",
       "      <th>target</th>\n",
       "      <th>0</th>\n",
       "      <th>1</th>\n",
       "    </tr>\n",
       "    <tr>\n",
       "      <th>treatment_flg</th>\n",
       "      <th></th>\n",
       "      <th></th>\n",
       "    </tr>\n",
       "  </thead>\n",
       "  <tbody>\n",
       "    <tr>\n",
       "      <th>0</th>\n",
       "      <td>39558</td>\n",
       "      <td>60207</td>\n",
       "    </tr>\n",
       "    <tr>\n",
       "      <th>1</th>\n",
       "      <td>36215</td>\n",
       "      <td>63468</td>\n",
       "    </tr>\n",
       "  </tbody>\n",
       "</table>\n",
       "</div>"
      ],
      "text/plain": [
       "target             0      1\n",
       "treatment_flg              \n",
       "0              39558  60207\n",
       "1              36215  63468"
      ]
     },
     "execution_count": 37,
     "metadata": {},
     "output_type": "execute_result"
    }
   ],
   "source": [
    "pd.crosstab(df.treatment_flg, df.target, normalize=False)"
   ]
  },
  {
   "cell_type": "markdown",
   "metadata": {},
   "source": [
    "## Age of customers"
   ]
  },
  {
   "cell_type": "code",
   "execution_count": 38,
   "metadata": {},
   "outputs": [
    {
     "data": {
      "image/png": "[encoded data removed]",
      "text/plain": [
       "<Figure size 504x504 with 1 Axes>"
      ]
     },
     "metadata": {
      "needs_background": "light"
     },
     "output_type": "display_data"
    }
   ],
   "source": [
    "# fig, ax = plt.subplots(figsize=(10, 5))\n",
    "\n",
    "g = sns.catplot(\n",
    "    x=\"age\",\n",
    "    data=pd.cut(df.age, bins=list(range(0, 100, 10))).to_frame(),\n",
    "    kind=\"count\",\n",
    "    palette=\"ch:.25\",\n",
    "    height=7\n",
    ")"
   ]
  },
  {
   "cell_type": "markdown",
   "metadata": {},
   "source": [
    "# Data quality"
   ]
  },
  {
   "cell_type": "markdown",
   "metadata": {},
   "source": [
    "## Classifier two sample test"
   ]
  },
  {
   "cell_type": "raw",
   "metadata": {},
   "source": [
    "control = df[df.treatment_flg == 0]\n",
    "target = df[df.treatment_flg == 1]\n",
    "\n",
    "test = ClassifierTwoSampleTestBootstrap(significance_level=0.05, \n",
    "                                        bootstraps=200, \n",
    "                                        verbose=1, \n",
    "                                        n_jobs=1, \n",
    "                                        threads=-1)\n",
    "columns = df.columns.difference(['treatment_flg', 'target', 'gender', 'client_id'])\n",
    "test.validate(control[columns], target[columns])\n",
    "\n",
    "fig, ax = plt.subplots()\n",
    "test.plot_distributions(ax)"
   ]
  },
  {
   "cell_type": "markdown",
   "metadata": {},
   "source": [
    "# Models"
   ]
  },
  {
   "cell_type": "code",
   "execution_count": 39,
   "metadata": {},
   "outputs": [],
   "source": [
    "logs = dict()\n",
    "models_dict = dict()"
   ]
  },
  {
   "cell_type": "markdown",
   "metadata": {},
   "source": [
    "## Sklift models"
   ]
  },
  {
   "cell_type": "markdown",
   "metadata": {},
   "source": [
    "## Two tower models"
   ]
  },
  {
   "cell_type": "markdown",
   "metadata": {},
   "source": [
    "#### TwoTowerModel"
   ]
  },
  {
   "cell_type": "code",
   "execution_count": 40,
   "metadata": {},
   "outputs": [],
   "source": [
    "treatment_model = lgb.LGBMClassifier()\n",
    "control_model = lgb.LGBMClassifier()\n",
    "models_dict['tt_lgb'] = TwoModels(treatment_model, control_model, )"
   ]
  },
  {
   "cell_type": "markdown",
   "metadata": {},
   "source": [
    "#### TwoTowerModel + Logreg"
   ]
  },
  {
   "cell_type": "code",
   "execution_count": 41,
   "metadata": {},
   "outputs": [],
   "source": [
    "logreg_model = make_pipeline(StandardScaler(), LogisticRegression(max_iter=10_000))\n",
    "models_dict['tt_logreg'] = TwoModels(clone(logreg_model), clone(logreg_model))"
   ]
  },
  {
   "cell_type": "markdown",
   "metadata": {},
   "source": [
    "## Class Transformation models"
   ]
  },
  {
   "cell_type": "markdown",
   "metadata": {},
   "source": [
    "#### Class Transformation + LGBM"
   ]
  },
  {
   "cell_type": "code",
   "execution_count": 42,
   "metadata": {},
   "outputs": [],
   "source": [
    "models_dict['ct_lgbm'] = models.ClassTransformation(lgb.LGBMClassifier())"
   ]
  },
  {
   "cell_type": "markdown",
   "metadata": {},
   "source": [
    "#### Class Transformation + LogReg"
   ]
  },
  {
   "cell_type": "code",
   "execution_count": 43,
   "metadata": {},
   "outputs": [],
   "source": [
    "models_dict['ct_logreg'] = models.ClassTransformation(clone(logreg_model))"
   ]
  },
  {
   "cell_type": "markdown",
   "metadata": {},
   "source": [
    "## Splits"
   ]
  },
  {
   "cell_type": "code",
   "execution_count": 46,
   "metadata": {},
   "outputs": [],
   "source": [
    "features_train, y_train, treatment_train = split_df(df_train)\n",
    "features_test, y_test, treatment_test = split_df(df_test)"
   ]
  },
  {
   "cell_type": "markdown",
   "metadata": {},
   "source": [
    "## Train functions"
   ]
  },
  {
   "cell_type": "code",
   "execution_count": 58,
   "metadata": {},
   "outputs": [],
   "source": [
    "def train_sklift(model, x, y, t):\n",
    "    return model.fit(x, y, t)\n",
    "\n",
    "def predict_sklift(model, x):\n",
    "    return model.predict(x)"
   ]
  },
  {
   "cell_type": "markdown",
   "metadata": {},
   "source": [
    "## Predict"
   ]
  },
  {
   "cell_type": "code",
   "execution_count": 72,
   "metadata": {},
   "outputs": [],
   "source": [
    "from collections import defaultdict\n",
    "\n",
    "from sklearn.model_selection import KFold\n",
    "\n",
    "\n",
    "def cross_validate(model, train_fn, predict_fn, df, metrics: dict, **kfold_params):\n",
    "    results = defaultdict(list)\n",
    "    \n",
    "    for train_index, test_index in KFold(**kfold_params).split(df):\n",
    "        train_df, test_df = df.iloc[train_index], df.iloc[test_index]\n",
    "        train_tuple, test_tuple = split_df(train_df), split_df(test_df)\n",
    "        model = train_fn(model, *train_tuple)\n",
    "        prediction = predict_fn(model, test_tuple[0])\n",
    "        \n",
    "        for metric_name, metric_fn in metrics.items():\n",
    "            results[metric_name].append(metric_fn(prediction, test_tuple))\n",
    "            \n",
    "    return results\n",
    "        \n",
    "    \n",
    "metric_fns = {\n",
    "    'uplift@30': lambda pred, test_tuple: metrics.uplift_at_k(test_tuple[1], pred, test_tuple[2], strategy=\"by_group\", k = 0.3),\n",
    "    'auuc': lambda pred, test_tuple: metrics.uplift_auc_score(test_tuple[1], pred, test_tuple[2]),\n",
    "}\n",
    "\n",
    "# cross_validate(models_dict['ct_lgbm'], train_sklift, predict_sklift, df, metric_fns)"
   ]
  },
  {
   "cell_type": "markdown",
   "metadata": {},
   "source": [
    "### sklift"
   ]
  },
  {
   "cell_type": "code",
   "execution_count": 75,
   "metadata": {},
   "outputs": [
    {
     "name": "stderr",
     "output_type": "stream",
     "text": [
      " 25%|██▌       | 1/4 [00:16<00:49, 16.55s/it]"
     ]
    },
    {
     "name": "stdout",
     "output_type": "stream",
     "text": [
      "tt_lgb uplift@30: 0.06071 +- 0.00837\n",
      "tt_lgb auuc: 0.01938 +- 0.00377\n"
     ]
    },
    {
     "name": "stderr",
     "output_type": "stream",
     "text": [
      " 50%|█████     | 2/4 [00:35<00:34, 17.17s/it]"
     ]
    },
    {
     "name": "stdout",
     "output_type": "stream",
     "text": [
      "tt_logreg uplift@30: 0.07088 +- 0.00914\n",
      "tt_logreg auuc: 0.02297 +- 0.00641\n"
     ]
    },
    {
     "name": "stderr",
     "output_type": "stream",
     "text": [
      "/home/isabella/code/study/diploma/venv/lib/python3.7/site-packages/ipykernel_launcher.py:2: UserWarning: It is recommended to use this approach on treatment balanced data. Current sample size is unbalanced.\n",
      "  \n",
      " 75%|███████▌  | 3/4 [00:46<00:15, 15.43s/it]"
     ]
    },
    {
     "name": "stdout",
     "output_type": "stream",
     "text": [
      "ct_lgbm uplift@30: 0.07809 +- 0.01077\n",
      "ct_lgbm auuc: 0.03181 +- 0.00398\n"
     ]
    },
    {
     "name": "stderr",
     "output_type": "stream",
     "text": [
      "/home/isabella/code/study/diploma/venv/lib/python3.7/site-packages/ipykernel_launcher.py:2: UserWarning: It is recommended to use this approach on treatment balanced data. Current sample size is unbalanced.\n",
      "  \n",
      "/home/isabella/code/study/diploma/venv/lib/python3.7/site-packages/ipykernel_launcher.py:2: UserWarning: It is recommended to use this approach on treatment balanced data. Current sample size is unbalanced.\n",
      "  \n",
      "/home/isabella/code/study/diploma/venv/lib/python3.7/site-packages/ipykernel_launcher.py:2: UserWarning: It is recommended to use this approach on treatment balanced data. Current sample size is unbalanced.\n",
      "  \n",
      "/home/isabella/code/study/diploma/venv/lib/python3.7/site-packages/ipykernel_launcher.py:2: UserWarning: It is recommended to use this approach on treatment balanced data. Current sample size is unbalanced.\n",
      "  \n",
      "100%|██████████| 4/4 [00:59<00:00, 14.82s/it]"
     ]
    },
    {
     "name": "stdout",
     "output_type": "stream",
     "text": [
      "ct_logreg uplift@30: 0.06790 +- 0.00668\n",
      "ct_logreg auuc: 0.02281 +- 0.00515\n"
     ]
    },
    {
     "name": "stderr",
     "output_type": "stream",
     "text": [
      "\n"
     ]
    }
   ],
   "source": [
    "for model_name, model in tqdm(models_dict.items()):\n",
    "    scores = cross_validate(model, train_sklift, predict_sklift, df, metric_fns)\n",
    "    for metric_name, score in scores.items():\n",
    "        print(f\"{model_name} {metric_name}:\", f\"{np.mean(score):.5f}\", \"+-\", f\"{np.std(score):.5f}\")"
   ]
  },
  {
   "cell_type": "markdown",
   "metadata": {},
   "source": [
    "### Uplift curve"
   ]
  },
  {
   "cell_type": "code",
   "execution_count": 51,
   "metadata": {},
   "outputs": [
    {
     "data": {
      "text/plain": [
       "<matplotlib.legend.Legend at 0x7f4fc31823d0>"
      ]
     },
     "execution_count": 51,
     "metadata": {},
     "output_type": "execute_result"
    },
    {
     "data": {
      "image/png": "[encoded data removed]",
      "text/plain": [
       "<Figure size 504x432 with 1 Axes>"
      ]
     },
     "metadata": {
      "needs_background": "light"
     },
     "output_type": "display_data"
    }
   ],
   "source": [
    "def plot_uplift_curve(target, uplift, treatment, ax, plot_kwargs, fillbetween_kwargs):\n",
    "    x, y = viz.base.uplift_curve(target, uplift, treatment)\n",
    "    y_baseline = x * y[-1] / len(target)\n",
    "    ax.plot(x, y, **plot_kwargs)\n",
    "    ax.fill_between(x, y, y_baseline, **fillbetween_kwargs)\n",
    "    return ax\n",
    "\n",
    "\n",
    "fig, ax = plt.subplots(figsize=(7, 6))\n",
    "for model_name, prediction in predictions.items():\n",
    "    plot_uplift_curve(y_test, prediction, treatment_test, ax, \n",
    "                      {'label': model_name}, \n",
    "                      {'alpha': 0.2})\n",
    "ax.legend()"
   ]
  },
  {
   "cell_type": "markdown",
   "metadata": {},
   "source": [
    "### Uplift@30"
   ]
  },
  {
   "cell_type": "code",
   "execution_count": 53,
   "metadata": {},
   "outputs": [
    {
     "name": "stdout",
     "output_type": "stream",
     "text": [
      "tt_lgb Uplift@30: 0.08997447640167133\n",
      "tt_logreg Uplift@30: 0.08912206951084456\n",
      "ct_lgbm Uplift@30: 0.08280694491062413\n",
      "ct_logreg Uplift@30: 0.08111140583443222\n"
     ]
    }
   ],
   "source": [
    "from sklift import metrics\n",
    "\n",
    "for model_name, prediction in predictions.items():\n",
    "    print(f\"{model_name} Uplift@30:\", metrics.uplift_at_k(y_test, prediction, treatment_test, strategy=\"by_group\", k = 0.3))"
   ]
  },
  {
   "cell_type": "markdown",
   "metadata": {},
   "source": [
    "### AUUC"
   ]
  },
  {
   "cell_type": "code",
   "execution_count": 54,
   "metadata": {},
   "outputs": [
    {
     "name": "stdout",
     "output_type": "stream",
     "text": [
      "tt_lgb AUUC: 0.029983598787417676\n",
      "tt_logreg AUUC: 0.03002137869213231\n",
      "ct_lgbm AUUC: 0.03508407645198444\n",
      "ct_logreg AUUC: 0.029547245038352824\n"
     ]
    }
   ],
   "source": [
    "for model_name, prediction in predictions.items():\n",
    "    print(f\"{model_name} AUUC:\", metrics.uplift_auc_score(y_test, prediction, treatment_test))"
   ]
  },
  {
   "cell_type": "markdown",
   "metadata": {},
   "source": [
    "# Model behaviour explaining"
   ]
  },
  {
   "cell_type": "code",
   "execution_count": null,
   "metadata": {},
   "outputs": [],
   "source": []
  }
 ],
 "metadata": {
  "kernelspec": {
   "display_name": "diploma",
   "language": "python",
   "name": "diploma"
  },
  "language_info": {
   "codemirror_mode": {
    "name": "ipython",
    "version": 3
   },
   "file_extension": ".py",
   "mimetype": "text/x-python",
   "name": "python",
   "nbconvert_exporter": "python",
   "pygments_lexer": "ipython3",
   "version": "3.7.6"
  }
 },
 "nbformat": 4,
 "nbformat_minor": 4
}
