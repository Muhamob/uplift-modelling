{
 "cells": [
  {
   "cell_type": "code",
   "execution_count": 1,
   "metadata": {},
   "outputs": [
    {
     "data": {
      "text/html": [
       "<style type='text/css'>\n",
       ".datatable table.frame { margin-bottom: 0; }\n",
       ".datatable table.frame thead { border-bottom: none; }\n",
       ".datatable table.frame tr.coltypes td {  color: #FFFFFF;  line-height: 6px;  padding: 0 0.5em;}\n",
       ".datatable .bool    { background: #DDDD99; }\n",
       ".datatable .object  { background: #565656; }\n",
       ".datatable .int     { background: #5D9E5D; }\n",
       ".datatable .float   { background: #4040CC; }\n",
       ".datatable .str     { background: #CC4040; }\n",
       ".datatable .row_index {  background: var(--jp-border-color3);  border-right: 1px solid var(--jp-border-color0);  color: var(--jp-ui-font-color3);  font-size: 9px;}\n",
       ".datatable .frame tr.coltypes .row_index {  background: var(--jp-border-color0);}\n",
       ".datatable th:nth-child(2) { padding-left: 12px; }\n",
       ".datatable .hellipsis {  color: var(--jp-cell-editor-border-color);}\n",
       ".datatable .vellipsis {  background: var(--jp-layout-color0);  color: var(--jp-cell-editor-border-color);}\n",
       ".datatable .na {  color: var(--jp-cell-editor-border-color);  font-size: 80%;}\n",
       ".datatable .footer { font-size: 9px; }\n",
       ".datatable .frame_dimensions {  background: var(--jp-border-color3);  border-top: 1px solid var(--jp-border-color0);  color: var(--jp-ui-font-color3);  display: inline-block;  opacity: 0.6;  padding: 1px 10px 1px 5px;}\n",
       "</style>\n"
      ],
      "text/plain": [
       "<IPython.core.display.HTML object>"
      ]
     },
     "metadata": {},
     "output_type": "display_data"
    },
    {
     "name": "stderr",
     "output_type": "stream",
     "text": [
      "/opt/anaconda3/lib/python3.7/importlib/_bootstrap.py:219: RuntimeWarning: numpy.ufunc size changed, may indicate binary incompatibility. Expected 192 from C header, got 216 from PyObject\n",
      "  return f(*args, **kwds)\n"
     ]
    }
   ],
   "source": [
    "import pandas as pd\n",
    "from sklift.models import TwoModels\n",
    "import lightgbm as lgb"
   ]
  },
  {
   "cell_type": "markdown",
   "metadata": {},
   "source": [
    "# Data"
   ]
  },
  {
   "cell_type": "code",
   "execution_count": 4,
   "metadata": {},
   "outputs": [
    {
     "data": {
      "text/html": [
       "<div>\n",
       "<style scoped>\n",
       "    .dataframe tbody tr th:only-of-type {\n",
       "        vertical-align: middle;\n",
       "    }\n",
       "\n",
       "    .dataframe tbody tr th {\n",
       "        vertical-align: top;\n",
       "    }\n",
       "\n",
       "    .dataframe thead th {\n",
       "        text-align: right;\n",
       "    }\n",
       "</style>\n",
       "<table border=\"1\" class=\"dataframe\">\n",
       "  <thead>\n",
       "    <tr style=\"text-align: right;\">\n",
       "      <th></th>\n",
       "      <th>client_id</th>\n",
       "      <th>age</th>\n",
       "      <th>gender</th>\n",
       "      <th>epr_mean</th>\n",
       "      <th>epr_std</th>\n",
       "      <th>epr_median</th>\n",
       "      <th>epr_skew</th>\n",
       "      <th>eps_mean</th>\n",
       "      <th>eps_std</th>\n",
       "      <th>eps_median</th>\n",
       "      <th>eps_skew</th>\n",
       "      <th>rpr_mean</th>\n",
       "      <th>rpr_std</th>\n",
       "      <th>rpr_median</th>\n",
       "      <th>rpr_skew</th>\n",
       "      <th>rps_mean</th>\n",
       "      <th>rps_std</th>\n",
       "      <th>rps_median</th>\n",
       "      <th>rps_skew</th>\n",
       "      <th>sum_mean</th>\n",
       "      <th>sum_std</th>\n",
       "      <th>sum_median</th>\n",
       "      <th>sum_skew</th>\n",
       "      <th>treatment_flg</th>\n",
       "      <th>target</th>\n",
       "    </tr>\n",
       "  </thead>\n",
       "  <tbody>\n",
       "    <tr>\n",
       "      <th>0</th>\n",
       "      <td>0001f552b0</td>\n",
       "      <td>33</td>\n",
       "      <td>F</td>\n",
       "      <td>0.0</td>\n",
       "      <td>0.0</td>\n",
       "      <td>0.0</td>\n",
       "      <td>0.0</td>\n",
       "      <td>0.000000</td>\n",
       "      <td>0.000000</td>\n",
       "      <td>0.0</td>\n",
       "      <td>0.000000</td>\n",
       "      <td>6.158333</td>\n",
       "      <td>10.634336</td>\n",
       "      <td>1.60</td>\n",
       "      <td>2.547242</td>\n",
       "      <td>0.000000</td>\n",
       "      <td>0.000000</td>\n",
       "      <td>0.0</td>\n",
       "      <td>0.000000</td>\n",
       "      <td>427.193333</td>\n",
       "      <td>307.178208</td>\n",
       "      <td>335.120</td>\n",
       "      <td>0.659669</td>\n",
       "      <td>1.0</td>\n",
       "      <td>1.0</td>\n",
       "    </tr>\n",
       "    <tr>\n",
       "      <th>1</th>\n",
       "      <td>00020e7b18</td>\n",
       "      <td>73</td>\n",
       "      <td>U</td>\n",
       "      <td>0.0</td>\n",
       "      <td>0.0</td>\n",
       "      <td>0.0</td>\n",
       "      <td>0.0</td>\n",
       "      <td>-1.176471</td>\n",
       "      <td>3.221897</td>\n",
       "      <td>0.0</td>\n",
       "      <td>-2.373464</td>\n",
       "      <td>16.823529</td>\n",
       "      <td>12.870556</td>\n",
       "      <td>15.50</td>\n",
       "      <td>0.802523</td>\n",
       "      <td>-31.411765</td>\n",
       "      <td>111.079229</td>\n",
       "      <td>0.0</td>\n",
       "      <td>-3.702573</td>\n",
       "      <td>1513.565294</td>\n",
       "      <td>951.441670</td>\n",
       "      <td>1374.500</td>\n",
       "      <td>1.110618</td>\n",
       "      <td>1.0</td>\n",
       "      <td>1.0</td>\n",
       "    </tr>\n",
       "    <tr>\n",
       "      <th>2</th>\n",
       "      <td>0004231e2a</td>\n",
       "      <td>56</td>\n",
       "      <td>F</td>\n",
       "      <td>0.0</td>\n",
       "      <td>0.0</td>\n",
       "      <td>0.0</td>\n",
       "      <td>0.0</td>\n",
       "      <td>0.000000</td>\n",
       "      <td>0.000000</td>\n",
       "      <td>0.0</td>\n",
       "      <td>0.000000</td>\n",
       "      <td>4.000000</td>\n",
       "      <td>3.452535</td>\n",
       "      <td>1.85</td>\n",
       "      <td>0.465942</td>\n",
       "      <td>0.000000</td>\n",
       "      <td>0.000000</td>\n",
       "      <td>0.0</td>\n",
       "      <td>0.000000</td>\n",
       "      <td>477.916667</td>\n",
       "      <td>292.505116</td>\n",
       "      <td>381.000</td>\n",
       "      <td>0.390853</td>\n",
       "      <td>1.0</td>\n",
       "      <td>0.0</td>\n",
       "    </tr>\n",
       "    <tr>\n",
       "      <th>3</th>\n",
       "      <td>0008b2cb41</td>\n",
       "      <td>25</td>\n",
       "      <td>U</td>\n",
       "      <td>0.0</td>\n",
       "      <td>0.0</td>\n",
       "      <td>0.0</td>\n",
       "      <td>0.0</td>\n",
       "      <td>0.000000</td>\n",
       "      <td>0.000000</td>\n",
       "      <td>0.0</td>\n",
       "      <td>0.000000</td>\n",
       "      <td>8.088889</td>\n",
       "      <td>9.269717</td>\n",
       "      <td>1.80</td>\n",
       "      <td>0.772569</td>\n",
       "      <td>0.000000</td>\n",
       "      <td>0.000000</td>\n",
       "      <td>0.0</td>\n",
       "      <td>0.000000</td>\n",
       "      <td>524.934444</td>\n",
       "      <td>648.084106</td>\n",
       "      <td>328.070</td>\n",
       "      <td>1.807648</td>\n",
       "      <td>1.0</td>\n",
       "      <td>1.0</td>\n",
       "    </tr>\n",
       "    <tr>\n",
       "      <th>4</th>\n",
       "      <td>0018650c30</td>\n",
       "      <td>35</td>\n",
       "      <td>U</td>\n",
       "      <td>0.0</td>\n",
       "      <td>0.0</td>\n",
       "      <td>0.0</td>\n",
       "      <td>0.0</td>\n",
       "      <td>0.000000</td>\n",
       "      <td>0.000000</td>\n",
       "      <td>0.0</td>\n",
       "      <td>0.000000</td>\n",
       "      <td>5.083784</td>\n",
       "      <td>5.170891</td>\n",
       "      <td>3.10</td>\n",
       "      <td>2.021097</td>\n",
       "      <td>-6.378378</td>\n",
       "      <td>34.638169</td>\n",
       "      <td>0.0</td>\n",
       "      <td>-5.733762</td>\n",
       "      <td>525.112973</td>\n",
       "      <td>326.249867</td>\n",
       "      <td>585.000</td>\n",
       "      <td>0.348691</td>\n",
       "      <td>0.0</td>\n",
       "      <td>1.0</td>\n",
       "    </tr>\n",
       "    <tr>\n",
       "      <th>...</th>\n",
       "      <td>...</td>\n",
       "      <td>...</td>\n",
       "      <td>...</td>\n",
       "      <td>...</td>\n",
       "      <td>...</td>\n",
       "      <td>...</td>\n",
       "      <td>...</td>\n",
       "      <td>...</td>\n",
       "      <td>...</td>\n",
       "      <td>...</td>\n",
       "      <td>...</td>\n",
       "      <td>...</td>\n",
       "      <td>...</td>\n",
       "      <td>...</td>\n",
       "      <td>...</td>\n",
       "      <td>...</td>\n",
       "      <td>...</td>\n",
       "      <td>...</td>\n",
       "      <td>...</td>\n",
       "      <td>...</td>\n",
       "      <td>...</td>\n",
       "      <td>...</td>\n",
       "      <td>...</td>\n",
       "      <td>...</td>\n",
       "      <td>...</td>\n",
       "    </tr>\n",
       "    <tr>\n",
       "      <th>39870</th>\n",
       "      <td>381ffd590b</td>\n",
       "      <td>31</td>\n",
       "      <td>M</td>\n",
       "      <td>0.0</td>\n",
       "      <td>0.0</td>\n",
       "      <td>0.0</td>\n",
       "      <td>0.0</td>\n",
       "      <td>0.000000</td>\n",
       "      <td>0.000000</td>\n",
       "      <td>0.0</td>\n",
       "      <td>0.000000</td>\n",
       "      <td>10.695238</td>\n",
       "      <td>7.097181</td>\n",
       "      <td>10.90</td>\n",
       "      <td>0.482618</td>\n",
       "      <td>-11.047619</td>\n",
       "      <td>23.509828</td>\n",
       "      <td>0.0</td>\n",
       "      <td>-1.773429</td>\n",
       "      <td>1247.857143</td>\n",
       "      <td>710.032298</td>\n",
       "      <td>1228.870</td>\n",
       "      <td>0.620327</td>\n",
       "      <td>0.0</td>\n",
       "      <td>1.0</td>\n",
       "    </tr>\n",
       "    <tr>\n",
       "      <th>39871</th>\n",
       "      <td>382006deb4</td>\n",
       "      <td>53</td>\n",
       "      <td>U</td>\n",
       "      <td>0.0</td>\n",
       "      <td>0.0</td>\n",
       "      <td>0.0</td>\n",
       "      <td>0.0</td>\n",
       "      <td>-0.526316</td>\n",
       "      <td>2.232969</td>\n",
       "      <td>0.0</td>\n",
       "      <td>-4.006938</td>\n",
       "      <td>5.321053</td>\n",
       "      <td>5.863498</td>\n",
       "      <td>2.60</td>\n",
       "      <td>1.443846</td>\n",
       "      <td>-4.263158</td>\n",
       "      <td>10.274353</td>\n",
       "      <td>0.0</td>\n",
       "      <td>-2.238413</td>\n",
       "      <td>503.995263</td>\n",
       "      <td>385.419511</td>\n",
       "      <td>417.910</td>\n",
       "      <td>1.362780</td>\n",
       "      <td>0.0</td>\n",
       "      <td>1.0</td>\n",
       "    </tr>\n",
       "    <tr>\n",
       "      <th>39872</th>\n",
       "      <td>3824a10246</td>\n",
       "      <td>31</td>\n",
       "      <td>M</td>\n",
       "      <td>0.0</td>\n",
       "      <td>0.0</td>\n",
       "      <td>0.0</td>\n",
       "      <td>0.0</td>\n",
       "      <td>0.000000</td>\n",
       "      <td>0.000000</td>\n",
       "      <td>0.0</td>\n",
       "      <td>0.000000</td>\n",
       "      <td>14.570588</td>\n",
       "      <td>16.694936</td>\n",
       "      <td>6.30</td>\n",
       "      <td>1.526712</td>\n",
       "      <td>0.000000</td>\n",
       "      <td>0.000000</td>\n",
       "      <td>0.0</td>\n",
       "      <td>0.000000</td>\n",
       "      <td>886.350000</td>\n",
       "      <td>574.790762</td>\n",
       "      <td>608.000</td>\n",
       "      <td>0.421705</td>\n",
       "      <td>1.0</td>\n",
       "      <td>1.0</td>\n",
       "    </tr>\n",
       "    <tr>\n",
       "      <th>39873</th>\n",
       "      <td>3827525e79</td>\n",
       "      <td>52</td>\n",
       "      <td>M</td>\n",
       "      <td>0.0</td>\n",
       "      <td>0.0</td>\n",
       "      <td>0.0</td>\n",
       "      <td>0.0</td>\n",
       "      <td>0.000000</td>\n",
       "      <td>0.000000</td>\n",
       "      <td>0.0</td>\n",
       "      <td>0.000000</td>\n",
       "      <td>4.313725</td>\n",
       "      <td>7.357350</td>\n",
       "      <td>1.00</td>\n",
       "      <td>2.127366</td>\n",
       "      <td>-4.529412</td>\n",
       "      <td>25.056292</td>\n",
       "      <td>0.0</td>\n",
       "      <td>-6.050345</td>\n",
       "      <td>337.968627</td>\n",
       "      <td>400.006840</td>\n",
       "      <td>197.850</td>\n",
       "      <td>3.328584</td>\n",
       "      <td>1.0</td>\n",
       "      <td>1.0</td>\n",
       "    </tr>\n",
       "    <tr>\n",
       "      <th>39874</th>\n",
       "      <td>382f0bf1e2</td>\n",
       "      <td>36</td>\n",
       "      <td>F</td>\n",
       "      <td>0.0</td>\n",
       "      <td>0.0</td>\n",
       "      <td>0.0</td>\n",
       "      <td>0.0</td>\n",
       "      <td>0.000000</td>\n",
       "      <td>0.000000</td>\n",
       "      <td>0.0</td>\n",
       "      <td>0.000000</td>\n",
       "      <td>15.614286</td>\n",
       "      <td>8.289051</td>\n",
       "      <td>12.90</td>\n",
       "      <td>1.294130</td>\n",
       "      <td>-12.214286</td>\n",
       "      <td>44.039233</td>\n",
       "      <td>0.0</td>\n",
       "      <td>-3.328201</td>\n",
       "      <td>1307.440714</td>\n",
       "      <td>843.853151</td>\n",
       "      <td>1045.235</td>\n",
       "      <td>2.031690</td>\n",
       "      <td>0.0</td>\n",
       "      <td>1.0</td>\n",
       "    </tr>\n",
       "  </tbody>\n",
       "</table>\n",
       "<p>39875 rows × 25 columns</p>\n",
       "</div>"
      ],
      "text/plain": [
       "        client_id  age gender  epr_mean  epr_std  epr_median  epr_skew  eps_mean   eps_std  ...     rps_std  rps_median  rps_skew     sum_mean     sum_std  sum_median  sum_skew  treatment_flg  target\n",
       "0      0001f552b0   33      F       0.0      0.0         0.0       0.0  0.000000  0.000000  ...    0.000000         0.0  0.000000   427.193333  307.178208     335.120  0.659669            1.0     1.0\n",
       "1      00020e7b18   73      U       0.0      0.0         0.0       0.0 -1.176471  3.221897  ...  111.079229         0.0 -3.702573  1513.565294  951.441670    1374.500  1.110618            1.0     1.0\n",
       "2      0004231e2a   56      F       0.0      0.0         0.0       0.0  0.000000  0.000000  ...    0.000000         0.0  0.000000   477.916667  292.505116     381.000  0.390853            1.0     0.0\n",
       "3      0008b2cb41   25      U       0.0      0.0         0.0       0.0  0.000000  0.000000  ...    0.000000         0.0  0.000000   524.934444  648.084106     328.070  1.807648            1.0     1.0\n",
       "4      0018650c30   35      U       0.0      0.0         0.0       0.0  0.000000  0.000000  ...   34.638169         0.0 -5.733762   525.112973  326.249867     585.000  0.348691            0.0     1.0\n",
       "...           ...  ...    ...       ...      ...         ...       ...       ...       ...  ...         ...         ...       ...          ...         ...         ...       ...            ...     ...\n",
       "39870  381ffd590b   31      M       0.0      0.0         0.0       0.0  0.000000  0.000000  ...   23.509828         0.0 -1.773429  1247.857143  710.032298    1228.870  0.620327            0.0     1.0\n",
       "39871  382006deb4   53      U       0.0      0.0         0.0       0.0 -0.526316  2.232969  ...   10.274353         0.0 -2.238413   503.995263  385.419511     417.910  1.362780            0.0     1.0\n",
       "39872  3824a10246   31      M       0.0      0.0         0.0       0.0  0.000000  0.000000  ...    0.000000         0.0  0.000000   886.350000  574.790762     608.000  0.421705            1.0     1.0\n",
       "39873  3827525e79   52      M       0.0      0.0         0.0       0.0  0.000000  0.000000  ...   25.056292         0.0 -6.050345   337.968627  400.006840     197.850  3.328584            1.0     1.0\n",
       "39874  382f0bf1e2   36      F       0.0      0.0         0.0       0.0  0.000000  0.000000  ...   44.039233         0.0 -3.328201  1307.440714  843.853151    1045.235  2.031690            0.0     1.0\n",
       "\n",
       "[39875 rows x 25 columns]"
      ]
     },
     "execution_count": 4,
     "metadata": {},
     "output_type": "execute_result"
    }
   ],
   "source": [
    "data_path = \"../../data/preprocessed/x5-uplift-features/\"\n",
    "\n",
    "df = pd.read_csv(data_path + \"features_with_target.csv\")\n",
    "df"
   ]
  },
  {
   "cell_type": "code",
   "execution_count": 11,
   "metadata": {},
   "outputs": [],
   "source": [
    "def split_df(df):\n",
    "    features = df[df.columns.difference(['treatment_flg', 'target', 'client_id', 'gender'])]\n",
    "    y_target = df.target\n",
    "    treatment = df.treatment_flg\n",
    "    \n",
    "    return features, y_target, treatment"
   ]
  },
  {
   "cell_type": "markdown",
   "metadata": {},
   "source": [
    "# Models"
   ]
  },
  {
   "cell_type": "markdown",
   "metadata": {},
   "source": [
    "## Two tower models"
   ]
  },
  {
   "cell_type": "markdown",
   "metadata": {},
   "source": [
    "### Init"
   ]
  },
  {
   "cell_type": "code",
   "execution_count": 12,
   "metadata": {},
   "outputs": [],
   "source": [
    "treatment_model = lgb.LGBMClassifier()\n",
    "control_model = lgb.LGBMClassifier()\n",
    "\n",
    "uplift_model = TwoModels(treatment_model, control_model, )"
   ]
  },
  {
   "cell_type": "markdown",
   "metadata": {},
   "source": [
    "### Split"
   ]
  },
  {
   "cell_type": "code",
   "execution_count": 29,
   "metadata": {},
   "outputs": [],
   "source": [
    "from sklearn.model_selection import train_test_split\n",
    "\n",
    "df_train, df_test = train_test_split(df, train_size=0.8, stratify=df.treatment_flg)"
   ]
  },
  {
   "cell_type": "markdown",
   "metadata": {},
   "source": [
    "### Fit-predict"
   ]
  },
  {
   "cell_type": "code",
   "execution_count": 30,
   "metadata": {},
   "outputs": [],
   "source": [
    "uplift_model.fit(*split_df(df_train))\n",
    "uplift_predict = uplift_model.predict(split_df(df_test)[0])"
   ]
  },
  {
   "cell_type": "markdown",
   "metadata": {},
   "source": [
    "## Metrics"
   ]
  },
  {
   "cell_type": "code",
   "execution_count": 31,
   "metadata": {},
   "outputs": [],
   "source": [
    "features_test, y_test, treatment_test = split_df(df_test)"
   ]
  },
  {
   "cell_type": "markdown",
   "metadata": {},
   "source": [
    "### Uplift at percentile"
   ]
  },
  {
   "cell_type": "code",
   "execution_count": 32,
   "metadata": {},
   "outputs": [
    {
     "data": {
      "image/png": "[encoded data removed]",
      "text/plain": [
       "<Figure size 576x432 with 2 Axes>"
      ]
     },
     "metadata": {
      "needs_background": "light"
     },
     "output_type": "display_data"
    }
   ],
   "source": [
    "from sklift.viz import plot_uplift_by_percentile\n",
    "\n",
    "ax_uplift, ax_rr = plot_uplift_by_percentile(y_test, uplift_predict, treatment_test, kind='bar')"
   ]
  },
  {
   "cell_type": "markdown",
   "metadata": {},
   "source": [
    "### Uplift curve"
   ]
  },
  {
   "cell_type": "code",
   "execution_count": 33,
   "metadata": {},
   "outputs": [
    {
     "data": {
      "text/plain": [
       "<AxesSubplot:title={'center':'Uplift curve\\nuplift_auc_score=0.0150'}, xlabel='Number targeted', ylabel='Gain: treatment - control'>"
      ]
     },
     "execution_count": 33,
     "metadata": {},
     "output_type": "execute_result"
    },
    {
     "data": {
      "image/png": "[encoded data removed]",
      "text/plain": [
       "<Figure size 576x432 with 1 Axes>"
      ]
     },
     "metadata": {
      "needs_background": "light"
     },
     "output_type": "display_data"
    }
   ],
   "source": [
    "from sklift.viz import plot_uplift_curve\n",
    "\n",
    "plot_uplift_curve(y_test, uplift_predict, treatment_test, perfect=False, )"
   ]
  },
  {
   "cell_type": "markdown",
   "metadata": {},
   "source": [
    "### Uplift@30"
   ]
  },
  {
   "cell_type": "code",
   "execution_count": 34,
   "metadata": {},
   "outputs": [
    {
     "name": "stdout",
     "output_type": "stream",
     "text": [
      "Uplift@30: 0.05207639475849568\n"
     ]
    }
   ],
   "source": [
    "from sklift import metrics\n",
    "\n",
    "print(\"Uplift@30:\", metrics.uplift_at_k(y_test, uplift_predict, treatment_test, strategy=\"by_group\", k = 0.3))"
   ]
  },
  {
   "cell_type": "code",
   "execution_count": null,
   "metadata": {},
   "outputs": [],
   "source": []
  }
 ],
 "metadata": {
  "kernelspec": {
   "display_name": "diploma",
   "language": "python",
   "name": "diploma"
  },
  "language_info": {
   "codemirror_mode": {
    "name": "ipython",
    "version": 3
   },
   "file_extension": ".py",
   "mimetype": "text/x-python",
   "name": "python",
   "nbconvert_exporter": "python",
   "pygments_lexer": "ipython3",
   "version": "3.7.6"
  }
 },
 "nbformat": 4,
 "nbformat_minor": 4
}
