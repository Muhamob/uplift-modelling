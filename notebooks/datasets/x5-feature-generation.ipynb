{
 "cells": [
  {
   "cell_type": "code",
   "execution_count": 4,
   "metadata": {},
   "outputs": [],
   "source": [
    "import json\n",
    "from pprint import pprint\n",
    "\n",
    "def loader(path):\n",
    "    with open(path, \"r\") as f:\n",
    "        for line in f.readlines():\n",
    "            yield json.loads(line)"
   ]
  },
  {
   "cell_type": "code",
   "execution_count": 22,
   "metadata": {},
   "outputs": [
    {
     "data": {
      "text/plain": [
       "datetime.datetime(2018, 12, 3, 11, 57, 24)"
      ]
     },
     "execution_count": 22,
     "metadata": {},
     "output_type": "execute_result"
    }
   ],
   "source": [
    "from datetime import datetime\n",
    "\n",
    "datetime.strptime(\"2018-12-03 11:57:24\", \"%Y-%m-%d %H:%M:%S\")"
   ]
  },
  {
   "cell_type": "code",
   "execution_count": 47,
   "metadata": {},
   "outputs": [
    {
     "data": {
      "text/plain": [
       "{'percent_of_transactions_in_0_day': 0.19148936170212766,\n",
       " 'percent_of_transactions_in_1_day': 0.1702127659574468,\n",
       " 'percent_of_transactions_in_2_day': 0.10638297872340426,\n",
       " 'percent_of_transactions_in_3_day': 0.23404255319148937,\n",
       " 'percent_of_transactions_in_4_day': 0.14893617021276595,\n",
       " 'percent_of_transactions_in_5_day': 0.0851063829787234,\n",
       " 'percent_of_transactions_in_6_day': 0.06382978723404255,\n",
       " 'percent_of_transactions_in_1_month': 18,\n",
       " 'percent_of_transactions_in_2_month': 12,\n",
       " 'percent_of_transactions_in_3_month': 0,\n",
       " 'percent_of_transactions_in_4_month': 0,\n",
       " 'percent_of_transactions_in_5_month': 0,\n",
       " 'percent_of_transactions_in_6_month': 0,\n",
       " 'percent_of_transactions_in_7_month': 0,\n",
       " 'percent_of_transactions_in_8_month': 0,\n",
       " 'percent_of_transactions_in_9_month': 0,\n",
       " 'percent_of_transactions_in_10_month': 0,\n",
       " 'percent_of_transactions_in_11_month': 1,\n",
       " 'percent_of_transactions_in_12_month': 16}"
      ]
     },
     "execution_count": 47,
     "metadata": {},
     "output_type": "execute_result"
    }
   ],
   "source": [
    "import pandas as pd\n",
    "\n",
    "def dates(history):\n",
    "    dates = pd.Series([datetime.strptime(t[\"datetime\"], \"%Y-%m-%d %H:%M:%S\") for t in history])\n",
    "    \n",
    "    dayweek_count = dates.groupby(dates.dt.dayofweek).count()\n",
    "    dayweek_count /= dayweek_count.sum()\n",
    "    \n",
    "    month_count = dates.groupby(dates.dt.month).count()\n",
    "#     month_count /= month_count.sum()\n",
    "    month_count = month_count.to_dict()\n",
    "    \n",
    "    return {\n",
    "        **{f\"percent_of_transactions_in_{k}_day\": v for k, v in dayweek_count.items()},\n",
    "        **{f\"percent_of_transactions_in_{i}_month\": month_count.get(i, 0) for i in range(1, 13)}\n",
    "    }\n",
    "\n",
    "dates(line['transaction_history'])"
   ]
  },
  {
   "cell_type": "code",
   "execution_count": 48,
   "metadata": {},
   "outputs": [
    {
     "data": {
      "text/plain": [
       "{'epr_mean': 0.0,\n",
       " 'epr_std': 0.0,\n",
       " 'epr_median': 0.0,\n",
       " 'epr_skew': 0.0,\n",
       " 'eps_mean': 0.0,\n",
       " 'eps_std': 0.0,\n",
       " 'eps_median': 0.0,\n",
       " 'eps_skew': 0.0,\n",
       " 'rpr_mean': 1.9638297872340424,\n",
       " 'rpr_std': 2.939635636121469,\n",
       " 'rpr_median': 1.0,\n",
       " 'rpr_skew': 2.6422171012593525,\n",
       " 'rps_mean': 0.0,\n",
       " 'rps_std': 0.0,\n",
       " 'rps_median': 0.0,\n",
       " 'rps_skew': 0.0,\n",
       " 'sum_mean': 299.84574468085106,\n",
       " 'sum_std': 311.68728662831603,\n",
       " 'sum_median': 210.78,\n",
       " 'sum_skew': 2.4148899974034608}"
      ]
     },
     "execution_count": 48,
     "metadata": {},
     "output_type": "execute_result"
    }
   ],
   "source": [
    "from datetime import datetime\n",
    "from scipy import stats\n",
    "import numpy as np\n",
    "\n",
    "def transaction_features(transaction_history):\n",
    "    features = dict()\n",
    "    \n",
    "    def distr_field(name):\n",
    "        return {\n",
    "            f'{name}_mean': np.mean([i[field] for i in transaction_history]),\n",
    "            f'{name}_std': np.std([i[field] for i in transaction_history]),\n",
    "            f'{name}_median': np.median([i[field] for i in transaction_history]),\n",
    "            f'{name}_skew': stats.skew([i[field] for i in transaction_history])\n",
    "        }\n",
    "    \n",
    "    for field in [\"epr\", \"eps\", \"rpr\", \"rps\", \"sum\"]:\n",
    "        features.update(distr_field(field))\n",
    "        \n",
    "    def dates(history):\n",
    "        dates = [datetime.strptime(t[\"datetime\"], \"%Y-%m-%d %H:%M:%S\") for t in history]\n",
    "        return {\n",
    "            'mean_transactions_in_month': np.mean()\n",
    "        }\n",
    "        \n",
    "    return features\n",
    "\n",
    "transaction_features(line['transaction_history'])"
   ]
  },
  {
   "cell_type": "code",
   "execution_count": 57,
   "metadata": {},
   "outputs": [
    {
     "name": "stderr",
     "output_type": "stream",
     "text": [
      "100%|██████████| 8/8 [03:53<00:00, 29.24s/it]\n"
     ]
    }
   ],
   "source": [
    "from tqdm import trange\n",
    "\n",
    "data_path = \"../../data/preprocessed/x5-uplift\"\n",
    "\n",
    "for i in trange(8):\n",
    "    with open(f\"../../data/preprocessed/x5-uplift-features/0{i}.jsons.splitted\", \"w\") as f:\n",
    "        for line in loader(f\"../../data/preprocessed/x5-retail-hero/tmp/jsons/0{i}.jsons.splitted\"):\n",
    "            features = transaction_features(line['transaction_history'])\n",
    "            del line['transaction_history']\n",
    "            del line['target']\n",
    "            line.update(features)\n",
    "            f.write(json.dumps(line) + \"\\n\")"
   ]
  },
  {
   "cell_type": "code",
   "execution_count": 55,
   "metadata": {},
   "outputs": [
    {
     "data": {
      "text/plain": [
       "{'age': 51,\n",
       " 'gender': 'U',\n",
       " 'client_id': '3831e8106a',\n",
       " 'target': [{'tid': '683315e17d',\n",
       "   'datetime': '2019-03-10 08:24:53',\n",
       "   'product_ids': ['4a29330c8d',\n",
       "    '4bd01c5234',\n",
       "    '66eeca18ac',\n",
       "    '86ffd3a584',\n",
       "    '343e841aaa',\n",
       "    'b385cab735',\n",
       "    '97cb83ba9d',\n",
       "    'f95785964a',\n",
       "    '576083639f',\n",
       "    '56d4b9e8ed'],\n",
       "   'store_id': '59f9933d4a'}],\n",
       " 'epr_mean': 0.0,\n",
       " 'epr_std': 0.0,\n",
       " 'epr_median': 0.0,\n",
       " 'epr_skew': 0.0,\n",
       " 'eps_mean': 0.0,\n",
       " 'eps_std': 0.0,\n",
       " 'eps_median': 0.0,\n",
       " 'eps_skew': 0.0,\n",
       " 'rpr_mean': 4.299999999999999,\n",
       " 'rpr_std': 3.2229943077350147,\n",
       " 'rpr_median': 3.0,\n",
       " 'rpr_skew': 0.5088169394498658,\n",
       " 'rps_mean': -2.8461538461538463,\n",
       " 'rps_std': 9.028554308382283,\n",
       " 'rps_median': 0.0,\n",
       " 'rps_skew': -3.133856163357532,\n",
       " 'sum_mean': 577.4630769230769,\n",
       " 'sum_std': 308.40349305575984,\n",
       " 'sum_median': 546.42,\n",
       " 'sum_skew': 1.5885033241394728}"
      ]
     },
     "execution_count": 55,
     "metadata": {},
     "output_type": "execute_result"
    }
   ],
   "source": [
    "line"
   ]
  },
  {
   "cell_type": "code",
   "execution_count": null,
   "metadata": {},
   "outputs": [],
   "source": []
  }
 ],
 "metadata": {
  "kernelspec": {
   "display_name": "diploma",
   "language": "python",
   "name": "diploma"
  },
  "language_info": {
   "codemirror_mode": {
    "name": "ipython",
    "version": 3
   },
   "file_extension": ".py",
   "mimetype": "text/x-python",
   "name": "python",
   "nbconvert_exporter": "python",
   "pygments_lexer": "ipython3",
   "version": "3.7.6"
  }
 },
 "nbformat": 4,
 "nbformat_minor": 4
}
